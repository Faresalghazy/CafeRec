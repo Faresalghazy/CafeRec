{
 "cells": [
  {
   "cell_type": "markdown",
   "metadata": {},
   "source": [
    "# Purpose"
   ]
  },
  {
   "cell_type": "markdown",
   "metadata": {},
   "source": [
    "This notebook is intended as a submission for the IBM professional data science certificate, it is not an academic resource, nor is it a complete product. "
   ]
  },
  {
   "cell_type": "markdown",
   "metadata": {},
   "source": [
    "# Introduction"
   ]
  },
  {
   "cell_type": "markdown",
   "metadata": {},
   "source": [
    "You are in a new unfamiliar area, and looking to grab a coffee. Maybe you want to have a quiet chat, maybe you want to work, maybe you want to enjoy some good tunes; but how do you decide where to go?\n",
    "With the recommender model I propose, you simply input a location and distance range then you and are recommended one, and only one place to go to. This is great for indecisive people looking for something new to try\n"
   ]
  },
  {
   "cell_type": "markdown",
   "metadata": {},
   "source": [
    "# Data gathering"
   ]
  },
  {
   "cell_type": "markdown",
   "metadata": {},
   "source": [
    "Since the product is supposed to help users based on their location, age, gender, and what they are looking for, we would ideally ask the user for these details. \n",
    "For the purpose of this notebook however, let us have a persona of a 20 year old female, at the Dubai mall, looking for somewhere with good music within 500 meteres."
   ]
  },
  {
   "cell_type": "code",
   "execution_count": 3,
   "metadata": {},
   "outputs": [],
   "source": [
    "user_age=22\n",
    "user_gender=1 #Let females be 1, and males be 0. This is more efficient for classification.\n",
    "user_Location=\"Dubai mall\"\n",
    "user_Preference=\"Good music\"\n",
    "user_Range=500 #in meters"
   ]
  },
  {
   "cell_type": "markdown",
   "metadata": {},
   "source": [
    "## Begin by finding the coordinates of the dubai mall, then finding all the cafes within the specified range"
   ]
  },
  {
   "cell_type": "code",
   "execution_count": null,
   "metadata": {},
   "outputs": [],
   "source": []
  }
 ],
 "metadata": {
  "kernelspec": {
   "display_name": "Python 3",
   "language": "python",
   "name": "python3"
  },
  "language_info": {
   "codemirror_mode": {
    "name": "ipython",
    "version": 3
   },
   "file_extension": ".py",
   "mimetype": "text/x-python",
   "name": "python",
   "nbconvert_exporter": "python",
   "pygments_lexer": "ipython3",
   "version": "3.7.4"
  }
 },
 "nbformat": 4,
 "nbformat_minor": 4
}
